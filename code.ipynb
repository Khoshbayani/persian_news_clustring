{
 "cells": [
  {
   "cell_type": "code",
   "execution_count": 1,
   "id": "initial_id",
   "metadata": {
    "collapsed": true,
    "ExecuteTime": {
     "end_time": "2024-05-15T14:54:55.455249700Z",
     "start_time": "2024-05-15T14:54:54.945133200Z"
    }
   },
   "outputs": [],
   "source": [
    "import pandas as pd"
   ]
  },
  {
   "cell_type": "code",
   "execution_count": 2,
   "outputs": [],
   "source": [
    "labaled_data = pd.read_csv(\"./news/labeled.csv\")\n",
    "unlabaled_data = pd.read_csv(\"./news/unlabeled.csv\")"
   ],
   "metadata": {
    "collapsed": false,
    "ExecuteTime": {
     "end_time": "2024-05-15T14:54:55.511071700Z",
     "start_time": "2024-05-15T14:54:55.463271400Z"
    }
   },
   "id": "e5a0add02f53249f"
  },
  {
   "cell_type": "code",
   "execution_count": 3,
   "outputs": [
    {
     "data": {
      "text/plain": "(30, 3)"
     },
     "execution_count": 3,
     "metadata": {},
     "output_type": "execute_result"
    }
   ],
   "source": [
    "labaled_data.shape"
   ],
   "metadata": {
    "collapsed": false,
    "ExecuteTime": {
     "end_time": "2024-05-15T14:54:55.526700700Z",
     "start_time": "2024-05-15T14:54:55.511071700Z"
    }
   },
   "id": "8d49857b80357b19"
  },
  {
   "cell_type": "code",
   "execution_count": 4,
   "outputs": [
    {
     "data": {
      "text/plain": "(720, 2)"
     },
     "execution_count": 4,
     "metadata": {},
     "output_type": "execute_result"
    }
   ],
   "source": [
    "unlabaled_data.shape"
   ],
   "metadata": {
    "collapsed": false,
    "ExecuteTime": {
     "end_time": "2024-05-15T14:54:55.605234200Z",
     "start_time": "2024-05-15T14:54:55.526700700Z"
    }
   },
   "id": "af9dc5ffef43496b"
  },
  {
   "cell_type": "code",
   "execution_count": 5,
   "outputs": [
    {
     "data": {
      "text/plain": "6"
     },
     "execution_count": 5,
     "metadata": {},
     "output_type": "execute_result"
    }
   ],
   "source": [
    "labaled_data[\"tags\"].nunique()"
   ],
   "metadata": {
    "collapsed": false,
    "ExecuteTime": {
     "end_time": "2024-05-15T14:54:55.605234200Z",
     "start_time": "2024-05-15T14:54:55.542323500Z"
    }
   },
   "id": "f668ec809a0959bb"
  },
  {
   "cell_type": "code",
   "execution_count": 68,
   "outputs": [],
   "source": [
    "data = unlabaled_data.copy()"
   ],
   "metadata": {
    "collapsed": false,
    "ExecuteTime": {
     "end_time": "2024-05-15T18:27:01.639602100Z",
     "start_time": "2024-05-15T18:27:01.595773600Z"
    }
   },
   "id": "ceb55b6dac792c5f"
  },
  {
   "cell_type": "code",
   "execution_count": 69,
   "outputs": [],
   "source": [
    "import hazm"
   ],
   "metadata": {
    "collapsed": false,
    "ExecuteTime": {
     "end_time": "2024-05-15T18:27:01.922530900Z",
     "start_time": "2024-05-15T18:27:01.902881600Z"
    }
   },
   "id": "9210a239926e0da"
  },
  {
   "cell_type": "code",
   "execution_count": 70,
   "outputs": [],
   "source": [
    "normalizer = hazm.Normalizer()\n",
    "tokenizer = hazm.WordTokenizer()"
   ],
   "metadata": {
    "collapsed": false,
    "ExecuteTime": {
     "end_time": "2024-05-15T18:27:04.837087300Z",
     "start_time": "2024-05-15T18:27:01.922530900Z"
    }
   },
   "id": "e8271229172aca14"
  },
  {
   "cell_type": "code",
   "execution_count": 71,
   "outputs": [],
   "source": [
    "from string import punctuation"
   ],
   "metadata": {
    "collapsed": false,
    "ExecuteTime": {
     "end_time": "2024-05-15T18:27:04.863627300Z",
     "start_time": "2024-05-15T18:27:04.852856Z"
    }
   },
   "id": "240e2ce850196c6"
  },
  {
   "cell_type": "code",
   "execution_count": 72,
   "outputs": [],
   "source": [
    "from bs4 import BeautifulSoup"
   ],
   "metadata": {
    "collapsed": false,
    "ExecuteTime": {
     "end_time": "2024-05-15T18:27:04.900167300Z",
     "start_time": "2024-05-15T18:27:04.863627300Z"
    }
   },
   "id": "3890e5b25e8604c6"
  },
  {
   "cell_type": "code",
   "execution_count": 73,
   "outputs": [],
   "source": [
    "stop_words = hazm.stopwords_list()"
   ],
   "metadata": {
    "collapsed": false,
    "ExecuteTime": {
     "end_time": "2024-05-15T18:27:04.900167300Z",
     "start_time": "2024-05-15T18:27:04.868658800Z"
    }
   },
   "id": "eab3e89f15fc9471"
  },
  {
   "cell_type": "code",
   "execution_count": 74,
   "outputs": [],
   "source": [
    "stemmer = hazm.Stemmer()"
   ],
   "metadata": {
    "collapsed": false,
    "ExecuteTime": {
     "end_time": "2024-05-15T18:27:04.915553400Z",
     "start_time": "2024-05-15T18:27:04.900167300Z"
    }
   },
   "id": "184282afb5ff2143"
  },
  {
   "cell_type": "code",
   "execution_count": 75,
   "outputs": [],
   "source": [
    "def text_preprocessing(text):\n",
    "    abs_txt = BeautifulSoup(text).get_text()\n",
    "    normlized_d = normalizer.normalize(abs_txt)\n",
    "    tokens = tokenizer.tokenize(normlized_d)\n",
    "    clean_txt = \"\"\n",
    "    for token in tokens:\n",
    "        if token not in list(punctuation+\"؟،؛»«\") and token not in stop_words:\n",
    "            if token.isdigit():\n",
    "                clean_txt+= \"<<digit>>\" + \" \"\n",
    "            else:\n",
    "                clean_txt+= stemmer.stem(token)+\" \" \n",
    "    else:\n",
    "        return clean_txt[:-1]"
   ],
   "metadata": {
    "collapsed": false,
    "ExecuteTime": {
     "end_time": "2024-05-15T18:27:04.931179600Z",
     "start_time": "2024-05-15T18:27:04.915553400Z"
    }
   },
   "id": "ba5c3e4baea49faf"
  },
  {
   "cell_type": "code",
   "execution_count": 76,
   "outputs": [
    {
     "name": "stderr",
     "output_type": "stream",
     "text": [
      "C:\\Users\\Mohammad\\AppData\\Local\\Temp\\ipykernel_2972\\1141642150.py:2: MarkupResemblesLocatorWarning: The input looks more like a filename than markup. You may want to open this file and pass the filehandle into Beautiful Soup.\n",
      "  abs_txt = BeautifulSoup(text).get_text()\n"
     ]
    }
   ],
   "source": [
    "data[\"description\"] = data[\"description\"].apply(text_preprocessing)"
   ],
   "metadata": {
    "collapsed": false,
    "ExecuteTime": {
     "end_time": "2024-05-15T18:27:07.261795700Z",
     "start_time": "2024-05-15T18:27:04.931179600Z"
    }
   },
   "id": "91564d45c27fa895"
  },
  {
   "cell_type": "code",
   "execution_count": 77,
   "outputs": [],
   "source": [
    "from sklearn.feature_extraction.text import TfidfVectorizer\n",
    "tfidfvectorizer = TfidfVectorizer(min_df=2)\n",
    "tfidfvect = tfidfvectorizer.fit_transform(data[\"description\"])"
   ],
   "metadata": {
    "collapsed": false,
    "ExecuteTime": {
     "end_time": "2024-05-15T18:27:07.372207900Z",
     "start_time": "2024-05-15T18:27:07.324937600Z"
    }
   },
   "id": "7751a42dd3c03110"
  },
  {
   "cell_type": "code",
   "execution_count": 78,
   "outputs": [],
   "source": [
    "X = tfidfvect.toarray()"
   ],
   "metadata": {
    "collapsed": false,
    "ExecuteTime": {
     "end_time": "2024-05-15T18:27:07.403467400Z",
     "start_time": "2024-05-15T18:27:07.372207900Z"
    }
   },
   "id": "2b43dc5eef5884c8"
  },
  {
   "cell_type": "code",
   "execution_count": 79,
   "outputs": [
    {
     "data": {
      "text/plain": "(720, 4882)"
     },
     "execution_count": 79,
     "metadata": {},
     "output_type": "execute_result"
    }
   ],
   "source": [
    "X.shape"
   ],
   "metadata": {
    "collapsed": false,
    "ExecuteTime": {
     "end_time": "2024-05-15T18:27:07.419099200Z",
     "start_time": "2024-05-15T18:27:07.403467400Z"
    }
   },
   "id": "526eb9810bea3cf7"
  },
  {
   "cell_type": "code",
   "execution_count": null,
   "outputs": [],
   "source": [],
   "metadata": {
    "collapsed": false
   },
   "id": "4e4a677712c3e1f1"
  }
 ],
 "metadata": {
  "kernelspec": {
   "display_name": "Python 3",
   "language": "python",
   "name": "python3"
  },
  "language_info": {
   "codemirror_mode": {
    "name": "ipython",
    "version": 2
   },
   "file_extension": ".py",
   "mimetype": "text/x-python",
   "name": "python",
   "nbconvert_exporter": "python",
   "pygments_lexer": "ipython2",
   "version": "2.7.6"
  }
 },
 "nbformat": 4,
 "nbformat_minor": 5
}
